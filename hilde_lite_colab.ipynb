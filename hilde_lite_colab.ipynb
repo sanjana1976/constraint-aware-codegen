# HiLDe-Lite: Human-in-the-Loop Decoding for AI Code Generation

A lightweight prototype of HiLDe optimized for Google Colab T4 GPU (16GB VRAM)

## Architecture
- **Completion LLM**: Qwen2.5-Coder-7B (runs on Colab GPU)
- **Analysis LLM**: GPT-4 API (runs via HTTP requests)
- **API Gateway**: Flask server orchestrating both services

## Features
- Token-level alternatives with probabilities
- Entropy-based decision highlighting
- GPT-4 semantic explanations
- Optimized for 16GB VRAM constraint## 1. Install Dependencies# HiLDe-Lite: Human-in-the-Loop Decoding for AI Code Generation

A lightweight prototype of HiLDe optimized for Google Colab T4 GPU (16GB VRAM)

## Architecture
- **Completion LLM**: Qwen2.5-Coder-7B (runs on Colab GPU)
- **Analysis LLM**: GPT-4 API (runs via HTTP requests)
- **API Gateway**: Flask server orchestrating both services

## Features
- Token-level alternatives with probabilities
- Entropy-based decision highlighting
- GPT-4 semantic explanations
- Optimized for 16GB VRAM constraint